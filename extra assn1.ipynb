{
 "cells": [
  {
   "cell_type": "code",
   "execution_count": 1,
   "id": "f1080cde-2c79-428e-b190-9bc2c744cc8f",
   "metadata": {},
   "outputs": [
    {
     "name": "stdout",
     "output_type": "stream",
     "text": [
      "HOPE AI\n"
     ]
    }
   ],
   "source": [
    "#print\n",
    "print(\"HOPE AI\")"
   ]
  },
  {
   "cell_type": "code",
   "execution_count": 2,
   "id": "d2d36519-c42f-4680-9589-7b60051f2a9c",
   "metadata": {},
   "outputs": [
    {
     "name": "stdin",
     "output_type": "stream",
     "text": [
      "Enter the institute name? :  HOPE AI\n"
     ]
    },
    {
     "name": "stdout",
     "output_type": "stream",
     "text": [
      "Enter the institute name? :  HOPE AI\n"
     ]
    }
   ],
   "source": [
    "#input fetching\n",
    "Name = input(\"Enter the institute name? : \")\n",
    "print(\"Enter the institute name? : \",Name)"
   ]
  },
  {
   "cell_type": "code",
   "execution_count": 3,
   "id": "3b0aabe7-27c8-4848-a0f8-d2af0a02ff63",
   "metadata": {},
   "outputs": [
    {
     "name": "stdin",
     "output_type": "stream",
     "text": [
      "Enter your name:  Akash\n",
      "Enter your age :  25\n",
      "Enter your school :  Velammal\n",
      "Enter your degree :  B.E (ECE)\n"
     ]
    },
    {
     "name": "stdout",
     "output_type": "stream",
     "text": [
      "Enter your name:  Akash\n",
      "Enter your age:  25\n",
      "Enter your school:  Velammal\n",
      "Enter your degree:  B.E (ECE)\n"
     ]
    }
   ],
   "source": [
    "#fectch input\n",
    "Name = input(\"Enter your name: \")\n",
    "Age = int(input(\"Enter your age : \"))\n",
    "School_Name = input(\"Enter your school : \")\n",
    "Degree = input(\"Enter your degree : \")\n",
    "print(\"Enter your name: \",Name)\n",
    "print(\"Enter your age: \",Age)\n",
    "print(\"Enter your school: \",School_Name)\n",
    "print(\"Enter your degree: \",Degree)"
   ]
  },
  {
   "cell_type": "code",
   "execution_count": 4,
   "id": "417b3132-cee3-480e-afa2-cd6cb1a6f0d6",
   "metadata": {},
   "outputs": [
    {
     "name": "stdout",
     "output_type": "stream",
     "text": [
      "Num1=  43\n",
      "Num2=  34\n",
      "Add=  77\n"
     ]
    }
   ],
   "source": [
    "#Addition of 2 numbers\n",
    "Num1=43\n",
    "Num2=34\n",
    "Add = Num1 + Num2\n",
    "print(\"Num1= \",Num1)\n",
    "print(\"Num2= \",Num2)\n",
    "print(\"Add= \",Add)"
   ]
  },
  {
   "cell_type": "code",
   "execution_count": 5,
   "id": "1bc7ea9e-9fcb-4064-ad35-9fdf97e413b4",
   "metadata": {},
   "outputs": [
    {
     "name": "stdout",
     "output_type": "stream",
     "text": [
      "Num1=  43\n",
      "Num2=  34\n",
      "Sub =  9\n"
     ]
    }
   ],
   "source": [
    "#sub of 2 numbers\n",
    "Num1=43\n",
    "Num2=34\n",
    "sub = Num1 - Num2\n",
    "print(\"Num1= \",Num1)\n",
    "print(\"Num2= \",Num2)\n",
    "print(\"Sub = \",sub)"
   ]
  },
  {
   "cell_type": "code",
   "execution_count": 6,
   "id": "41682b3d-be60-4ac8-a8aa-de60460fc2bc",
   "metadata": {},
   "outputs": [
    {
     "name": "stdout",
     "output_type": "stream",
     "text": [
      "Num1=  63\n",
      "Num2=  97\n",
      "Mul=  6111\n"
     ]
    }
   ],
   "source": [
    "#Mul of 2 numbers\n",
    "Num1=63\n",
    "Num2=97\n",
    "Mul = Num1 * Num2\n",
    "print(\"Num1= \",Num1)\n",
    "print(\"Num2= \",Num2)\n",
    "print(\"Mul= \",Mul)"
   ]
  },
  {
   "cell_type": "code",
   "execution_count": 7,
   "id": "853450ae-ef67-4a01-a936-483cef40b542",
   "metadata": {},
   "outputs": [
    {
     "name": "stdout",
     "output_type": "stream",
     "text": [
      "Num1=  76\n",
      "Num2=  31\n",
      "Float Div=  2.4516129032258065\n"
     ]
    }
   ],
   "source": [
    "#Div of 2 numbers\n",
    "Num1=76\n",
    "Num2=31\n",
    "Div = Num1 / Num2\n",
    "print(\"Num1= \",Num1)\n",
    "print(\"Num2= \",Num2)\n",
    "print(\"Float Div= \",Div)"
   ]
  },
  {
   "cell_type": "code",
   "execution_count": 12,
   "id": "8f8c3739-95cd-45e1-aec8-eac543b5790a",
   "metadata": {},
   "outputs": [
    {
     "name": "stdout",
     "output_type": "stream",
     "text": [
      "Num1=  76\n",
      "Num2=  31\n",
      "Floor Div=  2\n"
     ]
    }
   ],
   "source": [
    "#floor Div of 2 numbers\n",
    "Num1=76\n",
    "Num2=31\n",
    "Div = Num1 // Num2\n",
    "print(\"Num1= \",Num1)\n",
    "print(\"Num2= \",Num2)\n",
    "print(\"Floor Div= \",Div)"
   ]
  },
  {
   "cell_type": "code",
   "execution_count": 13,
   "id": "32b0c837-0b07-424d-b89a-2d42e2f8bd54",
   "metadata": {},
   "outputs": [
    {
     "name": "stdout",
     "output_type": "stream",
     "text": [
      "Num1=  76\n",
      "Num2=  31\n",
      "Modulo=  14\n"
     ]
    }
   ],
   "source": [
    "#Mod of 2 numbers\n",
    "Num1=76\n",
    "Num2=31\n",
    "Mod = Num1%Num2\n",
    "print(\"Num1= \",Num1)\n",
    "print(\"Num2= \",Num2)\n",
    "print(\"Modulo= \",Mod)"
   ]
  },
  {
   "cell_type": "code",
   "execution_count": 15,
   "id": "e528c62d-793c-4d62-92c8-ad1b9cd47c9e",
   "metadata": {},
   "outputs": [
    {
     "name": "stdout",
     "output_type": "stream",
     "text": [
      "Num1=  4\n",
      "Num2=  4\n",
      "Power=  256\n"
     ]
    }
   ],
   "source": [
    "#power of 2 numbers\n",
    "Num1=4\n",
    "Num2=4\n",
    "pow = Num1 ** Num2\n",
    "print(\"Num1= \",Num1)\n",
    "print(\"Num2= \",Num2)\n",
    "print(\"Power= \",pow)"
   ]
  },
  {
   "cell_type": "code",
   "execution_count": null,
   "id": "4ed8fefc-32d8-49d0-82aa-f82be0d00071",
   "metadata": {},
   "outputs": [],
   "source": []
  }
 ],
 "metadata": {
  "kernelspec": {
   "display_name": "Python 3 (ipykernel)",
   "language": "python",
   "name": "python3"
  },
  "language_info": {
   "codemirror_mode": {
    "name": "ipython",
    "version": 3
   },
   "file_extension": ".py",
   "mimetype": "text/x-python",
   "name": "python",
   "nbconvert_exporter": "python",
   "pygments_lexer": "ipython3",
   "version": "3.11.7"
  }
 },
 "nbformat": 4,
 "nbformat_minor": 5
}
