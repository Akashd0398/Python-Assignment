{
 "cells": [
  {
   "cell_type": "code",
   "execution_count": 5,
   "id": "53197f4c-86e3-45bc-97b3-2a5e621f0b25",
   "metadata": {},
   "outputs": [],
   "source": [
    "from Libraryfuncs import Mulfuncs"
   ]
  },
  {
   "cell_type": "code",
   "execution_count": 6,
   "id": "4d3804bd-610a-4960-9aa1-f24c976a296d",
   "metadata": {},
   "outputs": [
    {
     "name": "stdout",
     "output_type": "stream",
     "text": [
      "Sub-fields in AI are:\n",
      "Machine Learning\n",
      "Neural Networks\n",
      "Vision,Robotics\n",
      "Speech Processing\n",
      "Natural Language Processing\n"
     ]
    }
   ],
   "source": [
    "Mulfuncs.Subfields()"
   ]
  },
  {
   "cell_type": "code",
   "execution_count": 7,
   "id": "dfca5317-985a-4afe-b8c2-0ba00d1cf5a3",
   "metadata": {},
   "outputs": [
    {
     "name": "stdin",
     "output_type": "stream",
     "text": [
      "Enter a number: 20\n"
     ]
    },
    {
     "name": "stdout",
     "output_type": "stream",
     "text": [
      "20 is even number\n"
     ]
    }
   ],
   "source": [
    "Mulfuncs.OddEven()"
   ]
  },
  {
   "cell_type": "code",
   "execution_count": 8,
   "id": "e8eda25d-8f0f-494f-82d5-b5f36b16bc73",
   "metadata": {},
   "outputs": [
    {
     "name": "stdin",
     "output_type": "stream",
     "text": [
      "Your Gender :  Male\n",
      "Your Age :  20\n"
     ]
    },
    {
     "name": "stdout",
     "output_type": "stream",
     "text": [
      "NOT ELIGIBLE\n"
     ]
    }
   ],
   "source": [
    "Mulfuncs.Elegible()"
   ]
  },
  {
   "cell_type": "code",
   "execution_count": 9,
   "id": "43cab811-dbea-4e94-ab30-49768830f214",
   "metadata": {},
   "outputs": [
    {
     "name": "stdin",
     "output_type": "stream",
     "text": [
      "Subject 1 :  90\n",
      "Subject 2 :  91\n",
      "Subject 3 :  92\n",
      "Subject 4 :  93\n",
      "Subject 5 :  94\n"
     ]
    },
    {
     "name": "stdout",
     "output_type": "stream",
     "text": [
      "Total :  460\n",
      "Percentage =  92.0\n"
     ]
    },
    {
     "data": {
      "text/plain": [
       "92.0"
      ]
     },
     "execution_count": 9,
     "metadata": {},
     "output_type": "execute_result"
    }
   ],
   "source": [
    "Mulfuncs.Percentage()"
   ]
  },
  {
   "cell_type": "code",
   "execution_count": 10,
   "id": "a4846f62-1909-4568-bd28-4c50f5ef35b3",
   "metadata": {},
   "outputs": [
    {
     "name": "stdin",
     "output_type": "stream",
     "text": [
      "Height :  10\n",
      "Breadth :  20\n"
     ]
    },
    {
     "name": "stdout",
     "output_type": "stream",
     "text": [
      "Area of triangle = (Height*Breadth)/2\n",
      "Area of triange :  100.0\n"
     ]
    },
    {
     "name": "stdin",
     "output_type": "stream",
     "text": [
      "Height1 :  1\n",
      "Height2 :  2\n",
      "Breadth2 :  3\n"
     ]
    },
    {
     "name": "stdout",
     "output_type": "stream",
     "text": [
      "Perimeter of triangle = Height1+Height2+Breadth2\n",
      "Perimeter of Triangle :  6\n"
     ]
    }
   ],
   "source": [
    "Mulfuncs.Triangle()"
   ]
  },
  {
   "cell_type": "code",
   "execution_count": null,
   "id": "f380b00c-f25a-44c1-9997-2b2ea55858c1",
   "metadata": {},
   "outputs": [],
   "source": []
  }
 ],
 "metadata": {
  "kernelspec": {
   "display_name": "Python 3 (ipykernel)",
   "language": "python",
   "name": "python3"
  },
  "language_info": {
   "codemirror_mode": {
    "name": "ipython",
    "version": 3
   },
   "file_extension": ".py",
   "mimetype": "text/x-python",
   "name": "python",
   "nbconvert_exporter": "python",
   "pygments_lexer": "ipython3",
   "version": "3.11.7"
  }
 },
 "nbformat": 4,
 "nbformat_minor": 5
}
