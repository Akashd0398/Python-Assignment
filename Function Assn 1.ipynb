{
 "cells": [
  {
   "cell_type": "code",
   "execution_count": 13,
   "id": "271d1dd4-569a-4f00-9b54-d87a770803e4",
   "metadata": {},
   "outputs": [],
   "source": [
    "# Create a class and function, and list out the items in the list\n",
    "def Subfields():\n",
    "    print(\"Sub-fields in AI are:\")\n",
    "    lists = [\"Machine Learning\",\"Neural Networks\",\"Vision,Robotics\",\"Speech Processing\",\"Natural Language Processing\"]\n",
    "    for subfieldsinAi in lists:\n",
    "        print(subfieldsinAi)\n"
   ]
  },
  {
   "cell_type": "code",
   "execution_count": 14,
   "id": "b4d95e34-ec6b-49ad-b731-17e408ceb38f",
   "metadata": {},
   "outputs": [
    {
     "name": "stdout",
     "output_type": "stream",
     "text": [
      "Sub-fields in AI are:\n",
      "Machine Learning\n",
      "Neural Networks\n",
      "Vision,Robotics\n",
      "Speech Processing\n",
      "Natural Language Processing\n"
     ]
    }
   ],
   "source": [
    "Subfields()"
   ]
  },
  {
   "cell_type": "code",
   "execution_count": 15,
   "id": "e5b6eba3-0113-4dd0-9b3b-86ea85182b4f",
   "metadata": {},
   "outputs": [],
   "source": [
    " # Create a function that checks whether the given number is Odd or Even\n",
    "def OddEven():\n",
    "    Number = int(input(\"Enter a number:\"))\n",
    "    if(Number%2==0):\n",
    "        Message = print(Number,\"is even number\")\n",
    "    else:\n",
    "        Message = print(Number,\"is odd number\")\n",
    "    return Message\n",
    "    "
   ]
  },
  {
   "cell_type": "code",
   "execution_count": 16,
   "id": "d277cb1f-a050-4d1f-92b4-e11118520763",
   "metadata": {},
   "outputs": [
    {
     "name": "stdin",
     "output_type": "stream",
     "text": [
      "Enter a number: 25\n"
     ]
    },
    {
     "name": "stdout",
     "output_type": "stream",
     "text": [
      "25 is odd number\n"
     ]
    }
   ],
   "source": [
    "OddEven()"
   ]
  },
  {
   "cell_type": "code",
   "execution_count": 17,
   "id": "517ef237-18d4-48cc-b3dd-ad7637280acb",
   "metadata": {},
   "outputs": [],
   "source": [
    "# Create a function that tells elegibility of marriage for male and female according to their age limit like 21 for male and 18 for female\n",
    "\n",
    "def Elegible():\n",
    "    Gender = input(\"Your Gender : \")\n",
    "    Age = int(input(\"Your Age : \"))\n",
    "    if(Gender == \"Male\"):\n",
    "        if(Age > 21):\n",
    "            print(\"ELIGIBLE\")\n",
    "        else:\n",
    "            print(\"NOT ELIGIBLE\")\n",
    "    elif(Gender == \"Female\"):\n",
    "        if(Age > 18):\n",
    "            print(\"ELIGIBLE\")\n",
    "        else:\n",
    "            print(\"NOT ELIGIBLE\")\n",
    "    \n",
    "    "
   ]
  },
  {
   "cell_type": "code",
   "execution_count": 18,
   "id": "6d8d6cc4-0490-4d14-8a6e-bf1a52e87ba4",
   "metadata": {},
   "outputs": [
    {
     "name": "stdin",
     "output_type": "stream",
     "text": [
      "Your Gender :  Male\n",
      "Your Age :  20\n"
     ]
    },
    {
     "name": "stdout",
     "output_type": "stream",
     "text": [
      "NOT ELIGIBLE\n"
     ]
    }
   ],
   "source": [
    "Elegible()"
   ]
  },
  {
   "cell_type": "code",
   "execution_count": 4,
   "id": "bde76600-cdba-41cb-bc50-48dfc637a609",
   "metadata": {},
   "outputs": [],
   "source": [
    " # calculate the percentage of your 10th mark\n",
    "def MarkTotal():\n",
    "    Subject1 = int(input(\"Subject 1 : \"))\n",
    "    Subject2 = int(input(\"Subject 2 : \"))\n",
    "    Subject3 = int(input(\"Subject 3 : \"))\n",
    "    Subject4 = int(input(\"Subject 4 : \"))\n",
    "    Subject5 = int(input(\"Subject 5 : \"))\n",
    "    Total = Subject1+Subject2+Subject3+Subject4+Subject5\n",
    "    print(\"Total : \",Total)\n",
    "    return Total"
   ]
  },
  {
   "cell_type": "code",
   "execution_count": 7,
   "id": "85f35b35-3ed3-4df3-b916-34b1f85c03dd",
   "metadata": {},
   "outputs": [
    {
     "name": "stdin",
     "output_type": "stream",
     "text": [
      "Subject 1 :  98\n",
      "Subject 2 :  87\n",
      "Subject 3 :  95\n",
      "Subject 4 :  95\n",
      "Subject 5 :  93\n"
     ]
    },
    {
     "name": "stdout",
     "output_type": "stream",
     "text": [
      "Total :  468\n",
      "Percentage =  93.60000000000001\n"
     ]
    }
   ],
   "source": [
    "\n",
    "Total = MarkTotal() \n",
    "Percentage = (Total/500)*100\n",
    "print(\"Percentage = \",Percentage)\n"
   ]
  },
  {
   "cell_type": "code",
   "execution_count": 19,
   "id": "fbb04e04-0d88-4d1a-a117-f5fa2dd2ed3f",
   "metadata": {},
   "outputs": [],
   "source": [
    "#print area and perimeter of triangle using class and functions\n",
    "def AreaTriangle():\n",
    "    Height = int(input(\"Height : \"))\n",
    "    Breadth = int(input(\"Breadth : \"))\n",
    "    Area = (Height*Breadth)/2\n",
    "    print(\"Area of triangle = (Height*Breadth)/2\")\n",
    "    print(\"Area of triange : \",Area)\n",
    "    Height1 = int(input(\"Height1 : \"))\n",
    "    Height2 = int(input(\"Height2 : \"))\n",
    "    Breadth2 = int(input(\"Breadth2 : \"))\n",
    "    Perimeter = Height1+Height2+Breadth2\n",
    "    print(\"Perimeter of triangle = Height1+Height2+Breadth2\")\n",
    "    print(\"Perimeter of Triangle : \",Perimeter)"
   ]
  },
  {
   "cell_type": "code",
   "execution_count": 20,
   "id": "68f689fc-69fa-4df8-b330-fcb118b580df",
   "metadata": {},
   "outputs": [
    {
     "name": "stdin",
     "output_type": "stream",
     "text": [
      "Height :  32\n",
      "Breadth :  34\n"
     ]
    },
    {
     "name": "stdout",
     "output_type": "stream",
     "text": [
      "Area of triangle = (Height*Breadth)/2\n",
      "Area of triange :  544.0\n"
     ]
    },
    {
     "name": "stdin",
     "output_type": "stream",
     "text": [
      "Height1 :  2\n",
      "Height2 :  4\n",
      "Breadth2 :  4\n"
     ]
    },
    {
     "name": "stdout",
     "output_type": "stream",
     "text": [
      "Perimeter of triangle = Height1+Height2+Breadth2\n",
      "Perimeter of Triangle :  10\n"
     ]
    }
   ],
   "source": [
    "AreaTriangle()"
   ]
  },
  {
   "cell_type": "code",
   "execution_count": null,
   "id": "fe395211-67f6-4247-ba2a-4bc5a0c693bf",
   "metadata": {},
   "outputs": [],
   "source": []
  }
 ],
 "metadata": {
  "kernelspec": {
   "display_name": "Python 3 (ipykernel)",
   "language": "python",
   "name": "python3"
  },
  "language_info": {
   "codemirror_mode": {
    "name": "ipython",
    "version": 3
   },
   "file_extension": ".py",
   "mimetype": "text/x-python",
   "name": "python",
   "nbconvert_exporter": "python",
   "pygments_lexer": "ipython3",
   "version": "3.11.7"
  }
 },
 "nbformat": 4,
 "nbformat_minor": 5
}
