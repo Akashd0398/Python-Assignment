{
 "cells": [
  {
   "cell_type": "code",
   "execution_count": 5,
   "id": "97f6770e-2135-4408-8e02-5829c16af826",
   "metadata": {},
   "outputs": [
    {
     "name": "stdin",
     "output_type": "stream",
     "text": [
      "Value :  10\n"
     ]
    },
    {
     "name": "stdout",
     "output_type": "stream",
     "text": [
      "CORRECT\n"
     ]
    }
   ],
   "source": [
    "# print 'CORRECT' if i == 10\n",
    "Value = int(input(\"Value : \"))\n",
    "if(Value == 10):\n",
    "    print(\"CORRECT\")\n",
    "else:\n",
    "    print(\"INCORRECT\")"
   ]
  },
  {
   "cell_type": "code",
   "execution_count": 8,
   "id": "7253b396-6d9b-4a77-8e4a-c757953bd936",
   "metadata": {},
   "outputs": [
    {
     "name": "stdin",
     "output_type": "stream",
     "text": [
      "Enter the password:  HOPE@123\n"
     ]
    },
    {
     "name": "stdout",
     "output_type": "stream",
     "text": [
      "Your password is correct\n"
     ]
    }
   ],
   "source": [
    "# Check the password, using if and else\n",
    "Password = input(\"Enter the password: \")\n",
    "if(Password == \"HOPE@123\"):\n",
    "    print(\"Your password is correct\")\n",
    "else:\n",
    "    print(\"Your password is incorrect\")"
   ]
  },
  {
   "cell_type": "code",
   "execution_count": 11,
   "id": "531c6940-18d6-49cc-8356-e1b202fe6a52",
   "metadata": {},
   "outputs": [
    {
     "name": "stdin",
     "output_type": "stream",
     "text": [
      "Enter the Number 20\n"
     ]
    },
    {
     "name": "stdout",
     "output_type": "stream",
     "text": [
      "Adult\n"
     ]
    }
   ],
   "source": [
    "#if_elif\n",
    "Age = int(input(\"Enter the Number\"))\n",
    "if(Age<18):\n",
    "    print(\"Children\")\n",
    "elif(Age<35):\n",
    "    print(\"Adult\")\n",
    "elif(Age<59):\n",
    "    print(\"citizen\")\n",
    "else:\n",
    "    print(\"senior citizen\")"
   ]
  },
  {
   "cell_type": "code",
   "execution_count": 14,
   "id": "a40550ba-ae5c-4044-95ed-09d78d6f9462",
   "metadata": {},
   "outputs": [
    {
     "name": "stdin",
     "output_type": "stream",
     "text": [
      "Enter a number to check: 22\n"
     ]
    },
    {
     "name": "stdout",
     "output_type": "stream",
     "text": [
      "No is not divisible by 5\n"
     ]
    }
   ],
   "source": [
    "# Check whether the given number is divisible by 5\n",
    "Value = int(input(\"Enter a number to check:\"))\n",
    "if(Value%5 == 0):\n",
    "    print(\"Divisible by 5\")\n",
    "else:\n",
    "    print(\"No is not divisible by 5\")"
   ]
  },
  {
   "cell_type": "code",
   "execution_count": 18,
   "id": "839442ed-dd36-444b-a7d9-3401c8850a05",
   "metadata": {},
   "outputs": [
    {
     "name": "stdin",
     "output_type": "stream",
     "text": [
      "Enter any number: 1\n"
     ]
    },
    {
     "name": "stdout",
     "output_type": "stream",
     "text": [
      "No is positive\n"
     ]
    }
   ],
   "source": [
    "# Find whether given number is positive or negative\n",
    "Number = float(input(\"Enter any number:\"))\n",
    "if(Number>0):\n",
    "    print(\"No is positive\")\n",
    "elif(Number == 0):\n",
    "    print(\"No is Zero\")\n",
    "elif(Number<0):\n",
    "    print(\"No is Negative\")\n"
   ]
  }
 ],
 "metadata": {
  "kernelspec": {
   "display_name": "Python 3 (ipykernel)",
   "language": "python",
   "name": "python3"
  },
  "language_info": {
   "codemirror_mode": {
    "name": "ipython",
    "version": 3
   },
   "file_extension": ".py",
   "mimetype": "text/x-python",
   "name": "python",
   "nbconvert_exporter": "python",
   "pygments_lexer": "ipython3",
   "version": "3.11.7"
  }
 },
 "nbformat": 4,
 "nbformat_minor": 5
}
